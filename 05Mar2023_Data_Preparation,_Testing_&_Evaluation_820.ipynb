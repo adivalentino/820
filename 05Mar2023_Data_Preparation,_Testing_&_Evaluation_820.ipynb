{
  "nbformat": 4,
  "nbformat_minor": 0,
  "metadata": {
    "colab": {
      "provenance": []
    },
    "kernelspec": {
      "name": "python3",
      "display_name": "Python 3"
    },
    "language_info": {
      "name": "python"
    }
  },
  "cells": [
    {
      "cell_type": "code",
      "execution_count": null,
      "metadata": {
        "colab": {
          "base_uri": "https://localhost:8080/"
        },
        "id": "Ouyi0RVHsq1o",
        "outputId": "65d93482-7762-480b-c134-9ecb3864e3e3"
      },
      "outputs": [
        {
          "output_type": "stream",
          "name": "stdout",
          "text": [
            "Drive already mounted at /content/drive; to attempt to forcibly remount, call drive.mount(\"/content/drive\", force_remount=True).\n"
          ]
        }
      ],
      "source": [
        "from pandas.core.ops.array_ops import isna\n",
        "import os\n",
        "import pandas as pd\n",
        "from google.colab import drive\n",
        "drive.mount('/content/drive')\n",
        "\n",
        "movies = pd.read_csv('/content/drive/MyDrive/820/21Jan2023- 820- Movie metadata.csv')\n",
        "\n",
        "\n",
        "col_names = [\"Color\", \"Director Name\", \"# Critic Reviews\", \"Duration\", \"# Director Likes\", \"# Actor 1 Likes\", \"Actor 2 Name\", \"# Actor 1 Likes\", \"Gross\", \"Genres\", \n",
        "             \"Actor 1 Name\", \"Movie Title\", \"# Users Voted\", \"# Cast Likes\", \"Actor 3 Name\", \"# FB Poster\", \"Plot Keywords\", \"Movie Link\", \"# Users for Reviews\", \"Langauge\", \"Country\",\n",
        "             \"Content Rating\", \"Budget\", \"Title Year\", \"# Actor 2 Likes\", \"IMDB Score\", \"Aspect Ratio\", \"# Movie Likes\"]\n",
        "movies.columns = col_names"
      ]
    },
    {
      "cell_type": "code",
      "source": [
        "#REMOVE MISSING DATA:\n",
        "movies = movies.dropna()\n",
        "pd.set_option('float_format', '{:.2f}'.format)\n",
        "show_Missing = movies.isna().sum()\n",
        "show_Missing\n"
      ],
      "metadata": {
        "colab": {
          "base_uri": "https://localhost:8080/"
        },
        "id": "H3qknhIYdDlj",
        "outputId": "8f97d64f-8bf0-4afb-b629-7ac3f36b45b7"
      },
      "execution_count": null,
      "outputs": [
        {
          "output_type": "execute_result",
          "data": {
            "text/plain": [
              "Color                  0\n",
              "Director Name          0\n",
              "# Critic Reviews       0\n",
              "Duration               0\n",
              "# Director Likes       0\n",
              "# Actor 1 Likes        0\n",
              "Actor 2 Name           0\n",
              "# Actor 1 Likes        0\n",
              "Gross                  0\n",
              "Genres                 0\n",
              "Actor 1 Name           0\n",
              "Movie Title            0\n",
              "# Users Voted          0\n",
              "# Cast Likes           0\n",
              "Actor 3 Name           0\n",
              "# FB Poster            0\n",
              "Plot Keywords          0\n",
              "Movie Link             0\n",
              "# Users for Reviews    0\n",
              "Langauge               0\n",
              "Country                0\n",
              "Content Rating         0\n",
              "Budget                 0\n",
              "Title Year             0\n",
              "# Actor 2 Likes        0\n",
              "IMDB Score             0\n",
              "Aspect Ratio           0\n",
              "# Movie Likes          0\n",
              "dtype: int64"
            ]
          },
          "metadata": {},
          "execution_count": 96
        }
      ]
    },
    {
      "cell_type": "code",
      "source": [
        "from pandas.core.groupby.grouper import DataFrame\n",
        "#CREATE REVENUE CATEGORIES:\n",
        "\n",
        "#Revenue Classes:\n",
        "# $0 - 24.99M\n",
        "# $25 - 99.99M\n",
        "# $100 - 249.99M\n",
        "# $250 - 499.99M\n",
        "# $500M - 1000000000\n",
        "\n",
        "#Assign each movie to a REVENUE CLASS:\n",
        "movies['Classes'] = pd.cut(movies.Gross, bins = [0, 24999999, 99999999,249999999, 499999999, 1000000000], \n",
        "       labels = ['Class 1','Class 2', 'Class 3', 'Class 4', 'Class 5'])"
      ],
      "metadata": {
        "id": "bQ2xqSUdX59B"
      },
      "execution_count": null,
      "outputs": []
    },
    {
      "cell_type": "code",
      "source": [
        "#Remove unwanted features:\n",
        "movies = movies.drop(['Movie Title', 'Movie Link', 'Plot Keywords'], axis = 1) \n",
        "\n",
        "# Set aside the Classes label for future train-test splitting:\n",
        "y = movies.pop('Classes')"
      ],
      "metadata": {
        "id": "MZOAEXXgipUJ",
        "colab": {
          "base_uri": "https://localhost:8080/",
          "height": 447
        },
        "outputId": "894eab38-88d9-4e59-8b10-ec8a7796645e"
      },
      "execution_count": null,
      "outputs": [
        {
          "output_type": "error",
          "ename": "KeyError",
          "evalue": "ignored",
          "traceback": [
            "\u001b[0;31m---------------------------------------------------------------------------\u001b[0m",
            "\u001b[0;31mKeyError\u001b[0m                                  Traceback (most recent call last)",
            "\u001b[0;32m/usr/local/lib/python3.9/dist-packages/pandas/core/indexes/base.py\u001b[0m in \u001b[0;36mget_loc\u001b[0;34m(self, key, method, tolerance)\u001b[0m\n\u001b[1;32m   3360\u001b[0m             \u001b[0;32mtry\u001b[0m\u001b[0;34m:\u001b[0m\u001b[0;34m\u001b[0m\u001b[0;34m\u001b[0m\u001b[0m\n\u001b[0;32m-> 3361\u001b[0;31m                 \u001b[0;32mreturn\u001b[0m \u001b[0mself\u001b[0m\u001b[0;34m.\u001b[0m\u001b[0m_engine\u001b[0m\u001b[0;34m.\u001b[0m\u001b[0mget_loc\u001b[0m\u001b[0;34m(\u001b[0m\u001b[0mcasted_key\u001b[0m\u001b[0;34m)\u001b[0m\u001b[0;34m\u001b[0m\u001b[0;34m\u001b[0m\u001b[0m\n\u001b[0m\u001b[1;32m   3362\u001b[0m             \u001b[0;32mexcept\u001b[0m \u001b[0mKeyError\u001b[0m \u001b[0;32mas\u001b[0m \u001b[0merr\u001b[0m\u001b[0;34m:\u001b[0m\u001b[0;34m\u001b[0m\u001b[0;34m\u001b[0m\u001b[0m\n",
            "\u001b[0;32m/usr/local/lib/python3.9/dist-packages/pandas/_libs/index.pyx\u001b[0m in \u001b[0;36mpandas._libs.index.IndexEngine.get_loc\u001b[0;34m()\u001b[0m\n",
            "\u001b[0;32m/usr/local/lib/python3.9/dist-packages/pandas/_libs/index.pyx\u001b[0m in \u001b[0;36mpandas._libs.index.IndexEngine.get_loc\u001b[0;34m()\u001b[0m\n",
            "\u001b[0;32m/usr/local/lib/python3.9/dist-packages/pandas/_libs/index.pyx\u001b[0m in \u001b[0;36mpandas._libs.index.IndexEngine._get_loc_duplicates\u001b[0;34m()\u001b[0m\n",
            "\u001b[0;32m/usr/local/lib/python3.9/dist-packages/pandas/_libs/index.pyx\u001b[0m in \u001b[0;36mpandas._libs.index.IndexEngine._maybe_get_bool_indexer\u001b[0;34m()\u001b[0m\n",
            "\u001b[0;32m/usr/local/lib/python3.9/dist-packages/pandas/_libs/index.pyx\u001b[0m in \u001b[0;36mpandas._libs.index.IndexEngine._unpack_bool_indexer\u001b[0;34m()\u001b[0m\n",
            "\u001b[0;31mKeyError\u001b[0m: 'Classes'",
            "\nThe above exception was the direct cause of the following exception:\n",
            "\u001b[0;31mKeyError\u001b[0m                                  Traceback (most recent call last)",
            "\u001b[0;32m<ipython-input-97-cab1e202fe12>\u001b[0m in \u001b[0;36m<module>\u001b[0;34m\u001b[0m\n\u001b[1;32m      3\u001b[0m \u001b[0;34m\u001b[0m\u001b[0m\n\u001b[1;32m      4\u001b[0m \u001b[0;31m# Set aside the Classes label for future train-test splitting:\u001b[0m\u001b[0;34m\u001b[0m\u001b[0;34m\u001b[0m\u001b[0m\n\u001b[0;32m----> 5\u001b[0;31m \u001b[0my\u001b[0m \u001b[0;34m=\u001b[0m \u001b[0mmovies\u001b[0m\u001b[0;34m.\u001b[0m\u001b[0mpop\u001b[0m\u001b[0;34m(\u001b[0m\u001b[0;34m'Classes'\u001b[0m\u001b[0;34m)\u001b[0m\u001b[0;34m\u001b[0m\u001b[0;34m\u001b[0m\u001b[0m\n\u001b[0m",
            "\u001b[0;32m/usr/local/lib/python3.9/dist-packages/pandas/core/frame.py\u001b[0m in \u001b[0;36mpop\u001b[0;34m(self, item)\u001b[0m\n\u001b[1;32m   5224\u001b[0m         \u001b[0;36m3\u001b[0m  \u001b[0mmonkey\u001b[0m        \u001b[0mNaN\u001b[0m\u001b[0;34m\u001b[0m\u001b[0;34m\u001b[0m\u001b[0m\n\u001b[1;32m   5225\u001b[0m         \"\"\"\n\u001b[0;32m-> 5226\u001b[0;31m         \u001b[0;32mreturn\u001b[0m \u001b[0msuper\u001b[0m\u001b[0;34m(\u001b[0m\u001b[0;34m)\u001b[0m\u001b[0;34m.\u001b[0m\u001b[0mpop\u001b[0m\u001b[0;34m(\u001b[0m\u001b[0mitem\u001b[0m\u001b[0;34m=\u001b[0m\u001b[0mitem\u001b[0m\u001b[0;34m)\u001b[0m\u001b[0;34m\u001b[0m\u001b[0;34m\u001b[0m\u001b[0m\n\u001b[0m\u001b[1;32m   5227\u001b[0m \u001b[0;34m\u001b[0m\u001b[0m\n\u001b[1;32m   5228\u001b[0m     \u001b[0;34m@\u001b[0m\u001b[0mdoc\u001b[0m\u001b[0;34m(\u001b[0m\u001b[0mNDFrame\u001b[0m\u001b[0;34m.\u001b[0m\u001b[0mreplace\u001b[0m\u001b[0;34m,\u001b[0m \u001b[0;34m**\u001b[0m\u001b[0m_shared_doc_kwargs\u001b[0m\u001b[0;34m)\u001b[0m\u001b[0;34m\u001b[0m\u001b[0;34m\u001b[0m\u001b[0m\n",
            "\u001b[0;32m/usr/local/lib/python3.9/dist-packages/pandas/core/generic.py\u001b[0m in \u001b[0;36mpop\u001b[0;34m(self, item)\u001b[0m\n\u001b[1;32m    868\u001b[0m \u001b[0;34m\u001b[0m\u001b[0m\n\u001b[1;32m    869\u001b[0m     \u001b[0;32mdef\u001b[0m \u001b[0mpop\u001b[0m\u001b[0;34m(\u001b[0m\u001b[0mself\u001b[0m\u001b[0;34m,\u001b[0m \u001b[0mitem\u001b[0m\u001b[0;34m:\u001b[0m \u001b[0mHashable\u001b[0m\u001b[0;34m)\u001b[0m \u001b[0;34m->\u001b[0m \u001b[0mSeries\u001b[0m \u001b[0;34m|\u001b[0m \u001b[0mAny\u001b[0m\u001b[0;34m:\u001b[0m\u001b[0;34m\u001b[0m\u001b[0;34m\u001b[0m\u001b[0m\n\u001b[0;32m--> 870\u001b[0;31m         \u001b[0mresult\u001b[0m \u001b[0;34m=\u001b[0m \u001b[0mself\u001b[0m\u001b[0;34m[\u001b[0m\u001b[0mitem\u001b[0m\u001b[0;34m]\u001b[0m\u001b[0;34m\u001b[0m\u001b[0;34m\u001b[0m\u001b[0m\n\u001b[0m\u001b[1;32m    871\u001b[0m         \u001b[0;32mdel\u001b[0m \u001b[0mself\u001b[0m\u001b[0;34m[\u001b[0m\u001b[0mitem\u001b[0m\u001b[0;34m]\u001b[0m\u001b[0;34m\u001b[0m\u001b[0;34m\u001b[0m\u001b[0m\n\u001b[1;32m    872\u001b[0m \u001b[0;34m\u001b[0m\u001b[0m\n",
            "\u001b[0;32m/usr/local/lib/python3.9/dist-packages/pandas/core/frame.py\u001b[0m in \u001b[0;36m__getitem__\u001b[0;34m(self, key)\u001b[0m\n\u001b[1;32m   3456\u001b[0m             \u001b[0;32mif\u001b[0m \u001b[0mself\u001b[0m\u001b[0;34m.\u001b[0m\u001b[0mcolumns\u001b[0m\u001b[0;34m.\u001b[0m\u001b[0mnlevels\u001b[0m \u001b[0;34m>\u001b[0m \u001b[0;36m1\u001b[0m\u001b[0;34m:\u001b[0m\u001b[0;34m\u001b[0m\u001b[0;34m\u001b[0m\u001b[0m\n\u001b[1;32m   3457\u001b[0m                 \u001b[0;32mreturn\u001b[0m \u001b[0mself\u001b[0m\u001b[0;34m.\u001b[0m\u001b[0m_getitem_multilevel\u001b[0m\u001b[0;34m(\u001b[0m\u001b[0mkey\u001b[0m\u001b[0;34m)\u001b[0m\u001b[0;34m\u001b[0m\u001b[0;34m\u001b[0m\u001b[0m\n\u001b[0;32m-> 3458\u001b[0;31m             \u001b[0mindexer\u001b[0m \u001b[0;34m=\u001b[0m \u001b[0mself\u001b[0m\u001b[0;34m.\u001b[0m\u001b[0mcolumns\u001b[0m\u001b[0;34m.\u001b[0m\u001b[0mget_loc\u001b[0m\u001b[0;34m(\u001b[0m\u001b[0mkey\u001b[0m\u001b[0;34m)\u001b[0m\u001b[0;34m\u001b[0m\u001b[0;34m\u001b[0m\u001b[0m\n\u001b[0m\u001b[1;32m   3459\u001b[0m             \u001b[0;32mif\u001b[0m \u001b[0mis_integer\u001b[0m\u001b[0;34m(\u001b[0m\u001b[0mindexer\u001b[0m\u001b[0;34m)\u001b[0m\u001b[0;34m:\u001b[0m\u001b[0;34m\u001b[0m\u001b[0;34m\u001b[0m\u001b[0m\n\u001b[1;32m   3460\u001b[0m                 \u001b[0mindexer\u001b[0m \u001b[0;34m=\u001b[0m \u001b[0;34m[\u001b[0m\u001b[0mindexer\u001b[0m\u001b[0;34m]\u001b[0m\u001b[0;34m\u001b[0m\u001b[0;34m\u001b[0m\u001b[0m\n",
            "\u001b[0;32m/usr/local/lib/python3.9/dist-packages/pandas/core/indexes/base.py\u001b[0m in \u001b[0;36mget_loc\u001b[0;34m(self, key, method, tolerance)\u001b[0m\n\u001b[1;32m   3361\u001b[0m                 \u001b[0;32mreturn\u001b[0m \u001b[0mself\u001b[0m\u001b[0;34m.\u001b[0m\u001b[0m_engine\u001b[0m\u001b[0;34m.\u001b[0m\u001b[0mget_loc\u001b[0m\u001b[0;34m(\u001b[0m\u001b[0mcasted_key\u001b[0m\u001b[0;34m)\u001b[0m\u001b[0;34m\u001b[0m\u001b[0;34m\u001b[0m\u001b[0m\n\u001b[1;32m   3362\u001b[0m             \u001b[0;32mexcept\u001b[0m \u001b[0mKeyError\u001b[0m \u001b[0;32mas\u001b[0m \u001b[0merr\u001b[0m\u001b[0;34m:\u001b[0m\u001b[0;34m\u001b[0m\u001b[0;34m\u001b[0m\u001b[0m\n\u001b[0;32m-> 3363\u001b[0;31m                 \u001b[0;32mraise\u001b[0m \u001b[0mKeyError\u001b[0m\u001b[0;34m(\u001b[0m\u001b[0mkey\u001b[0m\u001b[0;34m)\u001b[0m \u001b[0;32mfrom\u001b[0m \u001b[0merr\u001b[0m\u001b[0;34m\u001b[0m\u001b[0;34m\u001b[0m\u001b[0m\n\u001b[0m\u001b[1;32m   3364\u001b[0m \u001b[0;34m\u001b[0m\u001b[0m\n\u001b[1;32m   3365\u001b[0m         \u001b[0;32mif\u001b[0m \u001b[0mis_scalar\u001b[0m\u001b[0;34m(\u001b[0m\u001b[0mkey\u001b[0m\u001b[0;34m)\u001b[0m \u001b[0;32mand\u001b[0m \u001b[0misna\u001b[0m\u001b[0;34m(\u001b[0m\u001b[0mkey\u001b[0m\u001b[0;34m)\u001b[0m \u001b[0;32mand\u001b[0m \u001b[0;32mnot\u001b[0m \u001b[0mself\u001b[0m\u001b[0;34m.\u001b[0m\u001b[0mhasnans\u001b[0m\u001b[0;34m:\u001b[0m\u001b[0;34m\u001b[0m\u001b[0;34m\u001b[0m\u001b[0m\n",
            "\u001b[0;31mKeyError\u001b[0m: 'Classes'"
          ]
        }
      ]
    },
    {
      "cell_type": "code",
      "source": [
        "# ENCODE CATEGORICAL VARIABLES TO NUMERICAL LABEL ENCODING:\n",
        "from sklearn import preprocessing\n",
        "\n",
        "label_encoder = preprocessing.LabelEncoder()\n",
        "one_hot_encoder = preprocessing.OneHotEncoder()\n",
        "\n",
        "movies['Director Name'] = label_encoder.fit_transform(movies['Director Name'])\n",
        "movies['Color'] = label_encoder.fit_transform(movies['Color'])\n",
        "movies['Actor 2 Name'] = label_encoder.fit_transform(movies['Actor 2 Name'])\n",
        "movies['Genres'] = label_encoder.fit_transform(movies['Genres'])\n",
        "movies['Langauge'] = label_encoder.fit_transform(movies['Langauge'])\n",
        "movies['Country'] = label_encoder.fit_transform(movies['Country'])\n",
        "movies['Content Rating'] = label_encoder.fit_transform(movies['Content Rating'])\n",
        "movies['Title Year'] = label_encoder.fit_transform(movies['Title Year'])\n",
        "movies['Actor 1 Name'] = label_encoder.fit_transform(movies['Actor 1 Name'])\n",
        "movies['Actor 3 Name'] = label_encoder.fit_transform(movies['Actor 3 Name'])\n",
        "\n",
        "movies.head()"
      ],
      "metadata": {
        "id": "zu2zkgVH1r2L",
        "colab": {
          "base_uri": "https://localhost:8080/",
          "height": 334
        },
        "outputId": "40ec7216-1865-4fc4-e4fd-8d74d3940371"
      },
      "execution_count": null,
      "outputs": [
        {
          "output_type": "execute_result",
          "data": {
            "text/plain": [
              "   Color  Director Name  # Critic Reviews  Duration  # Director Likes  \\\n",
              "0      1            620            723.00    178.00              0.00   \n",
              "1      1            538            302.00    169.00            563.00   \n",
              "2      1           1395            602.00    148.00              0.00   \n",
              "3      1            251            813.00    164.00          22000.00   \n",
              "5      1             62            462.00    132.00            475.00   \n",
              "\n",
              "   # Actor 1 Likes  Actor 2 Name  # Actor 1 Likes        Gross  Genres  ...  \\\n",
              "0           855.00          1002          1000.00 760505847.00      91  ...   \n",
              "1          1000.00          1592         40000.00 309404152.00      85  ...   \n",
              "2           161.00          1795         11000.00 200074175.00     107  ...   \n",
              "3         23000.00           381         27000.00 448130642.00     243  ...   \n",
              "5           530.00          1837           640.00  73058679.00     105  ...   \n",
              "\n",
              "   # Users for Reviews  Langauge  Country  Content Rating       Budget  \\\n",
              "0              3054.00         9       43               7 237000000.00   \n",
              "1              1238.00         9       43               7 300000000.00   \n",
              "2               994.00         9       42               7 245000000.00   \n",
              "3              2701.00         9       43               7 250000000.00   \n",
              "5               738.00         9       43               7 263700000.00   \n",
              "\n",
              "   Title Year  # Actor 2 Likes  IMDB Score  Aspect Ratio  # Movie Likes  \n",
              "0          66           936.00        7.90          1.78          33000  \n",
              "1          64          5000.00        7.10          2.35              0  \n",
              "2          72           393.00        6.80          2.35          85000  \n",
              "3          69         23000.00        8.50          2.35         164000  \n",
              "5          69           632.00        6.60          2.35          24000  \n",
              "\n",
              "[5 rows x 25 columns]"
            ],
            "text/html": [
              "\n",
              "  <div id=\"df-e12248b6-5ed7-4ea1-bedc-4067815c0716\">\n",
              "    <div class=\"colab-df-container\">\n",
              "      <div>\n",
              "<style scoped>\n",
              "    .dataframe tbody tr th:only-of-type {\n",
              "        vertical-align: middle;\n",
              "    }\n",
              "\n",
              "    .dataframe tbody tr th {\n",
              "        vertical-align: top;\n",
              "    }\n",
              "\n",
              "    .dataframe thead th {\n",
              "        text-align: right;\n",
              "    }\n",
              "</style>\n",
              "<table border=\"1\" class=\"dataframe\">\n",
              "  <thead>\n",
              "    <tr style=\"text-align: right;\">\n",
              "      <th></th>\n",
              "      <th>Color</th>\n",
              "      <th>Director Name</th>\n",
              "      <th># Critic Reviews</th>\n",
              "      <th>Duration</th>\n",
              "      <th># Director Likes</th>\n",
              "      <th># Actor 1 Likes</th>\n",
              "      <th>Actor 2 Name</th>\n",
              "      <th># Actor 1 Likes</th>\n",
              "      <th>Gross</th>\n",
              "      <th>Genres</th>\n",
              "      <th>...</th>\n",
              "      <th># Users for Reviews</th>\n",
              "      <th>Langauge</th>\n",
              "      <th>Country</th>\n",
              "      <th>Content Rating</th>\n",
              "      <th>Budget</th>\n",
              "      <th>Title Year</th>\n",
              "      <th># Actor 2 Likes</th>\n",
              "      <th>IMDB Score</th>\n",
              "      <th>Aspect Ratio</th>\n",
              "      <th># Movie Likes</th>\n",
              "    </tr>\n",
              "  </thead>\n",
              "  <tbody>\n",
              "    <tr>\n",
              "      <th>0</th>\n",
              "      <td>1</td>\n",
              "      <td>620</td>\n",
              "      <td>723.00</td>\n",
              "      <td>178.00</td>\n",
              "      <td>0.00</td>\n",
              "      <td>855.00</td>\n",
              "      <td>1002</td>\n",
              "      <td>1000.00</td>\n",
              "      <td>760505847.00</td>\n",
              "      <td>91</td>\n",
              "      <td>...</td>\n",
              "      <td>3054.00</td>\n",
              "      <td>9</td>\n",
              "      <td>43</td>\n",
              "      <td>7</td>\n",
              "      <td>237000000.00</td>\n",
              "      <td>66</td>\n",
              "      <td>936.00</td>\n",
              "      <td>7.90</td>\n",
              "      <td>1.78</td>\n",
              "      <td>33000</td>\n",
              "    </tr>\n",
              "    <tr>\n",
              "      <th>1</th>\n",
              "      <td>1</td>\n",
              "      <td>538</td>\n",
              "      <td>302.00</td>\n",
              "      <td>169.00</td>\n",
              "      <td>563.00</td>\n",
              "      <td>1000.00</td>\n",
              "      <td>1592</td>\n",
              "      <td>40000.00</td>\n",
              "      <td>309404152.00</td>\n",
              "      <td>85</td>\n",
              "      <td>...</td>\n",
              "      <td>1238.00</td>\n",
              "      <td>9</td>\n",
              "      <td>43</td>\n",
              "      <td>7</td>\n",
              "      <td>300000000.00</td>\n",
              "      <td>64</td>\n",
              "      <td>5000.00</td>\n",
              "      <td>7.10</td>\n",
              "      <td>2.35</td>\n",
              "      <td>0</td>\n",
              "    </tr>\n",
              "    <tr>\n",
              "      <th>2</th>\n",
              "      <td>1</td>\n",
              "      <td>1395</td>\n",
              "      <td>602.00</td>\n",
              "      <td>148.00</td>\n",
              "      <td>0.00</td>\n",
              "      <td>161.00</td>\n",
              "      <td>1795</td>\n",
              "      <td>11000.00</td>\n",
              "      <td>200074175.00</td>\n",
              "      <td>107</td>\n",
              "      <td>...</td>\n",
              "      <td>994.00</td>\n",
              "      <td>9</td>\n",
              "      <td>42</td>\n",
              "      <td>7</td>\n",
              "      <td>245000000.00</td>\n",
              "      <td>72</td>\n",
              "      <td>393.00</td>\n",
              "      <td>6.80</td>\n",
              "      <td>2.35</td>\n",
              "      <td>85000</td>\n",
              "    </tr>\n",
              "    <tr>\n",
              "      <th>3</th>\n",
              "      <td>1</td>\n",
              "      <td>251</td>\n",
              "      <td>813.00</td>\n",
              "      <td>164.00</td>\n",
              "      <td>22000.00</td>\n",
              "      <td>23000.00</td>\n",
              "      <td>381</td>\n",
              "      <td>27000.00</td>\n",
              "      <td>448130642.00</td>\n",
              "      <td>243</td>\n",
              "      <td>...</td>\n",
              "      <td>2701.00</td>\n",
              "      <td>9</td>\n",
              "      <td>43</td>\n",
              "      <td>7</td>\n",
              "      <td>250000000.00</td>\n",
              "      <td>69</td>\n",
              "      <td>23000.00</td>\n",
              "      <td>8.50</td>\n",
              "      <td>2.35</td>\n",
              "      <td>164000</td>\n",
              "    </tr>\n",
              "    <tr>\n",
              "      <th>5</th>\n",
              "      <td>1</td>\n",
              "      <td>62</td>\n",
              "      <td>462.00</td>\n",
              "      <td>132.00</td>\n",
              "      <td>475.00</td>\n",
              "      <td>530.00</td>\n",
              "      <td>1837</td>\n",
              "      <td>640.00</td>\n",
              "      <td>73058679.00</td>\n",
              "      <td>105</td>\n",
              "      <td>...</td>\n",
              "      <td>738.00</td>\n",
              "      <td>9</td>\n",
              "      <td>43</td>\n",
              "      <td>7</td>\n",
              "      <td>263700000.00</td>\n",
              "      <td>69</td>\n",
              "      <td>632.00</td>\n",
              "      <td>6.60</td>\n",
              "      <td>2.35</td>\n",
              "      <td>24000</td>\n",
              "    </tr>\n",
              "  </tbody>\n",
              "</table>\n",
              "<p>5 rows × 25 columns</p>\n",
              "</div>\n",
              "      <button class=\"colab-df-convert\" onclick=\"convertToInteractive('df-e12248b6-5ed7-4ea1-bedc-4067815c0716')\"\n",
              "              title=\"Convert this dataframe to an interactive table.\"\n",
              "              style=\"display:none;\">\n",
              "        \n",
              "  <svg xmlns=\"http://www.w3.org/2000/svg\" height=\"24px\"viewBox=\"0 0 24 24\"\n",
              "       width=\"24px\">\n",
              "    <path d=\"M0 0h24v24H0V0z\" fill=\"none\"/>\n",
              "    <path d=\"M18.56 5.44l.94 2.06.94-2.06 2.06-.94-2.06-.94-.94-2.06-.94 2.06-2.06.94zm-11 1L8.5 8.5l.94-2.06 2.06-.94-2.06-.94L8.5 2.5l-.94 2.06-2.06.94zm10 10l.94 2.06.94-2.06 2.06-.94-2.06-.94-.94-2.06-.94 2.06-2.06.94z\"/><path d=\"M17.41 7.96l-1.37-1.37c-.4-.4-.92-.59-1.43-.59-.52 0-1.04.2-1.43.59L10.3 9.45l-7.72 7.72c-.78.78-.78 2.05 0 2.83L4 21.41c.39.39.9.59 1.41.59.51 0 1.02-.2 1.41-.59l7.78-7.78 2.81-2.81c.8-.78.8-2.07 0-2.86zM5.41 20L4 18.59l7.72-7.72 1.47 1.35L5.41 20z\"/>\n",
              "  </svg>\n",
              "      </button>\n",
              "      \n",
              "  <style>\n",
              "    .colab-df-container {\n",
              "      display:flex;\n",
              "      flex-wrap:wrap;\n",
              "      gap: 12px;\n",
              "    }\n",
              "\n",
              "    .colab-df-convert {\n",
              "      background-color: #E8F0FE;\n",
              "      border: none;\n",
              "      border-radius: 50%;\n",
              "      cursor: pointer;\n",
              "      display: none;\n",
              "      fill: #1967D2;\n",
              "      height: 32px;\n",
              "      padding: 0 0 0 0;\n",
              "      width: 32px;\n",
              "    }\n",
              "\n",
              "    .colab-df-convert:hover {\n",
              "      background-color: #E2EBFA;\n",
              "      box-shadow: 0px 1px 2px rgba(60, 64, 67, 0.3), 0px 1px 3px 1px rgba(60, 64, 67, 0.15);\n",
              "      fill: #174EA6;\n",
              "    }\n",
              "\n",
              "    [theme=dark] .colab-df-convert {\n",
              "      background-color: #3B4455;\n",
              "      fill: #D2E3FC;\n",
              "    }\n",
              "\n",
              "    [theme=dark] .colab-df-convert:hover {\n",
              "      background-color: #434B5C;\n",
              "      box-shadow: 0px 1px 3px 1px rgba(0, 0, 0, 0.15);\n",
              "      filter: drop-shadow(0px 1px 2px rgba(0, 0, 0, 0.3));\n",
              "      fill: #FFFFFF;\n",
              "    }\n",
              "  </style>\n",
              "\n",
              "      <script>\n",
              "        const buttonEl =\n",
              "          document.querySelector('#df-e12248b6-5ed7-4ea1-bedc-4067815c0716 button.colab-df-convert');\n",
              "        buttonEl.style.display =\n",
              "          google.colab.kernel.accessAllowed ? 'block' : 'none';\n",
              "\n",
              "        async function convertToInteractive(key) {\n",
              "          const element = document.querySelector('#df-e12248b6-5ed7-4ea1-bedc-4067815c0716');\n",
              "          const dataTable =\n",
              "            await google.colab.kernel.invokeFunction('convertToInteractive',\n",
              "                                                     [key], {});\n",
              "          if (!dataTable) return;\n",
              "\n",
              "          const docLinkHtml = 'Like what you see? Visit the ' +\n",
              "            '<a target=\"_blank\" href=https://colab.research.google.com/notebooks/data_table.ipynb>data table notebook</a>'\n",
              "            + ' to learn more about interactive tables.';\n",
              "          element.innerHTML = '';\n",
              "          dataTable['output_type'] = 'display_data';\n",
              "          await google.colab.output.renderOutput(dataTable, element);\n",
              "          const docLink = document.createElement('div');\n",
              "          docLink.innerHTML = docLinkHtml;\n",
              "          element.appendChild(docLink);\n",
              "        }\n",
              "      </script>\n",
              "    </div>\n",
              "  </div>\n",
              "  "
            ]
          },
          "metadata": {},
          "execution_count": 98
        }
      ]
    },
    {
      "cell_type": "code",
      "source": [
        "#NORMALIZE DATA\n",
        "from sklearn.preprocessing import MinMaxScaler\n",
        "#Scale the variables:\n",
        "\n",
        "scaler = MinMaxScaler()\n",
        "scaler.fit(movies)\n",
        "scaled_Movies = scaler.fit_transform(movies)\n",
        "scaled_Movies = pd.DataFrame(scaled_Movies, columns = movies.columns)\n",
        "print(scaled_Movies.head())"
      ],
      "metadata": {
        "colab": {
          "base_uri": "https://localhost:8080/"
        },
        "id": "pjz3AgVArSkA",
        "outputId": "d4f04e1a-757d-463a-91dc-32644a94f252"
      },
      "execution_count": null,
      "outputs": [
        {
          "output_type": "stream",
          "name": "stdout",
          "text": [
            "   Color  Director Name  # Critic Reviews  Duration  # Director Likes  \\\n",
            "0   1.00           0.37              0.89      0.48              0.00   \n",
            "1   1.00           0.32              0.37      0.45              0.02   \n",
            "2   1.00           0.84              0.74      0.38              0.00   \n",
            "3   1.00           0.15              1.00      0.43              0.96   \n",
            "4   1.00           0.04              0.57      0.32              0.02   \n",
            "\n",
            "   # Actor 1 Likes  Actor 2 Name  # Actor 1 Likes  Gross  Genres  ...  \\\n",
            "0             0.04          0.46             0.00   1.00    0.12  ...   \n",
            "1             0.04          0.73             0.06   0.41    0.11  ...   \n",
            "2             0.01          0.82             0.02   0.26    0.14  ...   \n",
            "3             1.00          0.17             0.04   0.59    0.33  ...   \n",
            "4             0.02          0.84             0.00   0.10    0.14  ...   \n",
            "\n",
            "   # Users for Reviews  Langauge  Country  Content Rating  Budget  Title Year  \\\n",
            "0                 0.60      0.27     0.98            0.64    0.02        0.90   \n",
            "1                 0.24      0.27     0.98            0.64    0.02        0.88   \n",
            "2                 0.20      0.27     0.95            0.64    0.02        0.99   \n",
            "3                 0.53      0.27     0.98            0.64    0.02        0.95   \n",
            "4                 0.15      0.27     0.98            0.64    0.02        0.95   \n",
            "\n",
            "   # Actor 2 Likes  IMDB Score  Aspect Ratio  # Movie Likes  \n",
            "0             0.01        0.82          0.04           0.09  \n",
            "1             0.04        0.71          0.08           0.00  \n",
            "2             0.00        0.68          0.08           0.24  \n",
            "3             0.17        0.90          0.08           0.47  \n",
            "4             0.00        0.65          0.08           0.07  \n",
            "\n",
            "[5 rows x 25 columns]\n"
          ]
        }
      ]
    },
    {
      "cell_type": "code",
      "source": [
        "from sklearn import datasets\n",
        "from sklearn.metrics import confusion_matrix\n",
        "from sklearn.model_selection import train_test_split\n",
        "from sklearn.linear_model import LogisticRegression\n",
        "\n",
        "#SEPARATE INTO TRAINING AND TEST SETS:\n",
        "X = scaled_Movies\n"
      ],
      "metadata": {
        "id": "a8ilclsxqkdb"
      },
      "execution_count": null,
      "outputs": []
    },
    {
      "cell_type": "code",
      "source": [
        "# RANDOM SPLIT- SPLIT DATA INTO TRAINING AND TEST SETS:\n",
        "X_train, X_test, y_train, y_test = train_test_split(X, y, random_state = 10, train_size = 0.8, shuffle = True)"
      ],
      "metadata": {
        "id": "4CUP-0nWyEI1"
      },
      "execution_count": null,
      "outputs": []
    },
    {
      "cell_type": "code",
      "source": [
        "# GAUSSIAN NAIVE BAYES MODEL:\n",
        "from sklearn.naive_bayes import GaussianNB\n",
        "\n",
        "gnb_Model = GaussianNB()\n",
        "gnb_Model.fit(X_train, y_train)\n",
        "gnb_Predictions = gnb_Model.predict(X_test)\n",
        "gnb_Predictions[0:20]"
      ],
      "metadata": {
        "id": "b4MFq5zCDeGb",
        "colab": {
          "base_uri": "https://localhost:8080/"
        },
        "outputId": "0310d3c8-4032-4d35-ae69-f37fec604bf3"
      },
      "execution_count": null,
      "outputs": [
        {
          "output_type": "execute_result",
          "data": {
            "text/plain": [
              "array(['Class 1', 'Class Four', 'Class 2', 'Class 1', 'Class 2',\n",
              "       'Class 1', 'Class Four', 'Class Four', 'Class 1', 'Class Four',\n",
              "       'Class 1', 'Class 1', 'Class Four', 'Class 1', 'Class 2',\n",
              "       'Class 1', 'Class 2', 'Class 1', 'Class 1', 'Class Four'],\n",
              "      dtype='<U10')"
            ]
          },
          "metadata": {},
          "execution_count": 102
        }
      ]
    },
    {
      "cell_type": "code",
      "source": [
        "# SUPPORT VECTOR MACHINE MODEL:\n",
        "from sklearn import svm\n",
        "\n",
        "svm_Model = svm.SVC(kernel = 'linear') \n",
        "svm_Model.fit(X_train, y_train)\n",
        "svm_Predictions = svm_Model.predict(X_test)\n",
        "svm_Predictions[0:20]"
      ],
      "metadata": {
        "id": "wnpLwe-8_eqp",
        "colab": {
          "base_uri": "https://localhost:8080/"
        },
        "outputId": "d13f584d-a439-4cd0-893a-a4e4f03d7840"
      },
      "execution_count": null,
      "outputs": [
        {
          "output_type": "execute_result",
          "data": {
            "text/plain": [
              "array(['Class 1', 'Class 3', 'Class 2', 'Class 1', 'Class 1', 'Class 1',\n",
              "       'Class 3', 'Class 2', 'Class 1', 'Class 2', 'Class 1', 'Class 1',\n",
              "       'Class 3', 'Class 1', 'Class 2', 'Class 1', 'Class 2', 'Class 1',\n",
              "       'Class 1', 'Class 3'], dtype=object)"
            ]
          },
          "metadata": {},
          "execution_count": 103
        }
      ]
    },
    {
      "cell_type": "code",
      "source": [
        "#DECISION TREE MODEL:\n",
        "from sklearn import tree\n",
        "\n",
        "#TEST TREE MODEL:\n",
        "tree_Model = tree.DecisionTreeClassifier()\n",
        "tree_Model = tree_Model.fit(X_train, y_train)\n",
        "tree_Predictions = tree_Model.predict(X_test)\n",
        "tree_Predictions[0:20]\n"
      ],
      "metadata": {
        "id": "fQZiQnvC6ES8",
        "colab": {
          "base_uri": "https://localhost:8080/"
        },
        "outputId": "ebf94960-b66a-4ad9-eeb0-cf910d21a612"
      },
      "execution_count": null,
      "outputs": [
        {
          "output_type": "execute_result",
          "data": {
            "text/plain": [
              "array(['Class 1', 'Class 3', 'Class 2', 'Class 1', 'Class 2', 'Class 1',\n",
              "       'Class 3', 'Class 2', 'Class 1', 'Class 2', 'Class 1', 'Class 1',\n",
              "       'Class 3', 'Class 1', 'Class 2', 'Class 1', 'Class 2', 'Class 1',\n",
              "       'Class 1', 'Class 3'], dtype=object)"
            ]
          },
          "metadata": {},
          "execution_count": 104
        }
      ]
    },
    {
      "cell_type": "markdown",
      "source": [],
      "metadata": {
        "id": "6DsArO1O-Ti9"
      }
    },
    {
      "cell_type": "code",
      "source": [
        "#############################\n",
        "#LOGISTIC REGRESSION MODEL\n",
        "from sklearn import linear_model\n",
        "movie_Model = linear_model.LogisticRegression(multi_class = 'ovr', solver = 'liblinear')\n",
        "movie_Model.fit(X_train, y_train)\n",
        "log_Predictions = movie_Model.predict(X_test)\n",
        "log_Predictions[0:20]"
      ],
      "metadata": {
        "colab": {
          "base_uri": "https://localhost:8080/"
        },
        "id": "emy-MsxowoyX",
        "outputId": "a437f945-9ec9-430f-af26-7430473b7402"
      },
      "execution_count": null,
      "outputs": [
        {
          "output_type": "execute_result",
          "data": {
            "text/plain": [
              "array(['Class 1', 'Class 3', 'Class 1', 'Class 1', 'Class 1', 'Class 1',\n",
              "       'Class 2', 'Class 2', 'Class 1', 'Class 2', 'Class 1', 'Class 1',\n",
              "       'Class 3', 'Class 1', 'Class 2', 'Class 1', 'Class 2', 'Class 1',\n",
              "       'Class 1', 'Class 2'], dtype=object)"
            ]
          },
          "metadata": {},
          "execution_count": 126
        }
      ]
    },
    {
      "cell_type": "code",
      "source": [
        "# Logistic Regression Confusion Matrix:\n",
        "\n",
        "cm_log = confusion_matrix(y_test, log_Predictions, labels = movie_Model.classes_)\n",
        "disp_log =  ConfusionMatrixDisplay(confusion_matrix = cm_log, display_labels = movie_Model.classes_)\n",
        "disp_log.plot()\n",
        "plt.show()"
      ],
      "metadata": {
        "colab": {
          "base_uri": "https://localhost:8080/",
          "height": 279
        },
        "id": "DAwQKhqHAzcx",
        "outputId": "542f9df4-e3e5-4932-cda2-664b8a749a52"
      },
      "execution_count": null,
      "outputs": [
        {
          "output_type": "display_data",
          "data": {
            "text/plain": [
              "<Figure size 432x288 with 2 Axes>"
            ],
            "image/png": "[encoded data removed]"
          },
          "metadata": {
            "needs_background": "light"
          }
        }
      ]
    },
    {
      "cell_type": "code",
      "source": [
        "from sklearn import metrics\n",
        "\n",
        "# ACCURACY SCORES OF EACH ALGORITHM:\n",
        "print(\"Accuracy: LOGISTIC REGRESSION:\", metrics.accuracy_score(y_test, log_Predictions))\n",
        "print(\"Accuracy: GAUSSIAN NAIVE BAYES:\", metrics.accuracy_score(y_test, gnb_Predictions))\n",
        "print(\"Accuracy: SVM:\", metrics.accuracy_score(y_test, svm_Predictions))\n",
        "print(\"Accuracy: DECISION TREE:\", metrics.accuracy_score(y_test, tree_Predictions))"
      ],
      "metadata": {
        "colab": {
          "base_uri": "https://localhost:8080/"
        },
        "id": "VxAqajGLB8es",
        "outputId": "28e21c26-14a0-495f-949e-f699640e933e"
      },
      "execution_count": null,
      "outputs": [
        {
          "output_type": "stream",
          "name": "stdout",
          "text": [
            "Accuracy: LOGISTIC REGRESSION: 0.6875\n",
            "Accuracy: GAUSSIAN NAIVE BAYES: 0.625\n",
            "Accuracy: SVM: 0.8723404255319149\n",
            "Accuracy: DECISION TREE: 0.9986702127659575\n"
          ]
        }
      ]
    },
    {
      "cell_type": "code",
      "source": [
        "from sklearn.utils import shuffle\n",
        "import matplotlib.pyplot as plt\n",
        "from sklearn.metrics import confusion_matrix\n",
        "from sklearn.metrics import confusion_matrix\n",
        "from sklearn.metrics import ConfusionMatrixDisplay\n",
        "\n",
        "# CROSS- VALIDATION- SPLIT DATA INTO TRAINING AND TEST SETS:\n",
        "from sklearn.model_selection import KFold, cross_val_score, cross_val_predict\n",
        "\n",
        "# CROSS- VAL: Gaussian Naive Bayes \n",
        "k_folds = KFold(n_splits=10)\n",
        "gnb_cross_Scores = cross_val_score(gnb_Model, X_test, y_test, cv = k_folds)\n",
        "gnb_cross_Scores"
      ],
      "metadata": {
        "colab": {
          "base_uri": "https://localhost:8080/"
        },
        "id": "8aIT4USKYiF-",
        "outputId": "39819d69-92ac-42ed-9b02-51066c3bd0f5"
      },
      "execution_count": null,
      "outputs": [
        {
          "output_type": "execute_result",
          "data": {
            "text/plain": [
              "array([0.30263158, 0.31578947, 0.28      , 0.25333333, 0.24      ,\n",
              "       0.33333333, 0.28      , 0.29333333, 0.28      , 0.32      ])"
            ]
          },
          "metadata": {},
          "execution_count": 109
        }
      ]
    },
    {
      "cell_type": "code",
      "source": [
        "# Gaussian Naive Bayes Confusion Matrix:\n",
        "\n",
        "cm_gnb = confusion_matrix(y_test, gnb_Predictions, labels = gnb_Model.classes_)\n",
        "disp_gnb =  ConfusionMatrixDisplay(confusion_matrix = cm_gnb, display_labels = gnb_Model.classes_)\n",
        "disp_gnb.plot()\n",
        "plt.show()"
      ],
      "metadata": {
        "colab": {
          "base_uri": "https://localhost:8080/",
          "height": 279
        },
        "id": "hi18E1ZCAfKf",
        "outputId": "7fbc3796-9b85-4669-f9e5-cff6929e7c30"
      },
      "execution_count": null,
      "outputs": [
        {
          "output_type": "display_data",
          "data": {
            "text/plain": [
              "<Figure size 432x288 with 2 Axes>"
            ],
            "image/png": "[encoded data removed]"
          },
          "metadata": {
            "needs_background": "light"
          }
        }
      ]
    },
    {
      "cell_type": "code",
      "source": [
        "# CROSS- VAL: Support Vector Machine:\n",
        "k_folds = KFold(n_splits = 10)\n",
        "svm_cross_Scores = cross_val_score(svm_Model, X_test, y_test, cv = k_folds)\n",
        "svm_cross_Scores"
      ],
      "metadata": {
        "colab": {
          "base_uri": "https://localhost:8080/"
        },
        "id": "5QoUVkOlaJcE",
        "outputId": "1bff56fb-1414-445f-d655-0f702a8804c9"
      },
      "execution_count": null,
      "outputs": [
        {
          "output_type": "execute_result",
          "data": {
            "text/plain": [
              "array([0.78947368, 0.82894737, 0.72      , 0.69333333, 0.70666667,\n",
              "       0.62666667, 0.61333333, 0.82666667, 0.70666667, 0.69333333])"
            ]
          },
          "metadata": {},
          "execution_count": 110
        }
      ]
    },
    {
      "cell_type": "code",
      "source": [
        "# Support Vector Machine Confusion Matrix:\n",
        "\n",
        "cm_svm = confusion_matrix(y_test, svm_Predictions, labels = svm_Model.classes_)\n",
        "disp_svm =  ConfusionMatrixDisplay(confusion_matrix = cm_svm, display_labels = svm_Model.classes_)\n",
        "disp_svm.plot()\n",
        "plt.show()"
      ],
      "metadata": {
        "colab": {
          "base_uri": "https://localhost:8080/",
          "height": 279
        },
        "id": "0xAcnSLn_zHB",
        "outputId": "ec90c42d-ee60-4e03-c3cf-60740de6b8c7"
      },
      "execution_count": null,
      "outputs": [
        {
          "output_type": "display_data",
          "data": {
            "text/plain": [
              "<Figure size 432x288 with 2 Axes>"
            ],
            "image/png": "[encoded data removed]"
          },
          "metadata": {
            "needs_background": "light"
          }
        }
      ]
    },
    {
      "cell_type": "code",
      "source": [
        "# CROSS- VAL: Decision Tree:\n",
        "k_folds = KFold(n_splits = 10)\n",
        "tree_cross_Scores = cross_val_score(tree_Model, X_test, y_test, cv = k_folds)\n",
        "tree_cross_Scores"
      ],
      "metadata": {
        "colab": {
          "base_uri": "https://localhost:8080/"
        },
        "id": "Mta6ABr8aQeJ",
        "outputId": "d0d8e211-fe4a-49c7-cefc-ba58f4f4558f"
      },
      "execution_count": null,
      "outputs": [
        {
          "output_type": "execute_result",
          "data": {
            "text/plain": [
              "array([1.        , 0.98684211, 1.        , 1.        , 1.        ,\n",
              "       1.        , 1.        , 1.        , 1.        , 1.        ])"
            ]
          },
          "metadata": {},
          "execution_count": 111
        }
      ]
    },
    {
      "cell_type": "code",
      "source": [
        "# Decision Tree Confusion Matrix:\n",
        "cm_Tree = confusion_matrix(y_test, tree_Predictions, labels = tree_Model.classes_)\n",
        "disp_Tree =  ConfusionMatrixDisplay(confusion_matrix = cm_Tree, display_labels = tree_Model.classes_)\n",
        "disp_Tree.plot()\n",
        "plt.show()"
      ],
      "metadata": {
        "colab": {
          "base_uri": "https://localhost:8080/",
          "height": 279
        },
        "id": "wD0Ji6nH-NrJ",
        "outputId": "f5c12a4a-870a-43c4-e2a5-eed8466c1988"
      },
      "execution_count": null,
      "outputs": [
        {
          "output_type": "display_data",
          "data": {
            "text/plain": [
              "<Figure size 432x288 with 2 Axes>"
            ],
            "image/png": "[encoded data removed]"
          },
          "metadata": {
            "needs_background": "light"
          }
        }
      ]
    }
  ]
}