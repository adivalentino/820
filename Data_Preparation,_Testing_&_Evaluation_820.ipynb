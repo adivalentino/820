{
  "nbformat": 4,
  "nbformat_minor": 0,
  "metadata": {
    "colab": {
      "provenance": []
    },
    "kernelspec": {
      "name": "python3",
      "display_name": "Python 3"
    },
    "language_info": {
      "name": "python"
    }
  },
  "cells": [
    {
      "cell_type": "code",
      "execution_count": 27,
      "metadata": {
        "colab": {
          "base_uri": "https://localhost:8080/"
        },
        "id": "Ouyi0RVHsq1o",
        "outputId": "84204ab1-934e-498a-bf2a-a2e5dccaa45f"
      },
      "outputs": [
        {
          "output_type": "stream",
          "name": "stdout",
          "text": [
            "Drive already mounted at /content/drive; to attempt to forcibly remount, call drive.mount(\"/content/drive\", force_remount=True).\n"
          ]
        }
      ],
      "source": [
        "'''This file contains the code and results for the multiclass classification movie revenue prediction problem'''\n",
        "\n",
        "# Pull in raw dataset to coding environment utilizing pandas to read the csv, provide a dataframe structure and add correspoding attribute labels:\n",
        "\n",
        "from pandas.core.ops.array_ops import isna\n",
        "import os\n",
        "import pandas as pd\n",
        "from google.colab import drive\n",
        "drive.mount('/content/drive')\n",
        "\n",
        "# Raw dataset is stored in Google Drive. Mounted google drive to access original IMDB dataset:\n",
        "movies = pd.read_csv('/content/drive/MyDrive/820/21Jan2023- 820- Movie metadata.csv')\n",
        "\n",
        "col_names = [\"Color\", \"Director Name\", \"# Critic Reviews\", \"Duration\", \"# Director Likes\", \"# Actor 1 Likes\", \"Actor 2 Name\", \"# Actor 1 Likes\", \"Gross\", \"Genres\", \n",
        "             \"Actor 1 Name\", \"Movie Title\", \"# Users Voted\", \"# Cast Likes\", \"Actor 3 Name\", \"# FB Poster\", \"Plot Keywords\", \"Movie Link\", \"# Users for Reviews\", \"Langauge\", \"Country\",\n",
        "             \"Content Rating\", \"Budget\", \"Title Year\", \"# Actor 2 Likes\", \"IMDB Score\", \"Aspect Ratio\", \"# Movie Likes\"]\n",
        "movies.columns = col_names"
      ]
    },
    {
      "cell_type": "code",
      "source": [
        "movies.head()"
      ],
      "metadata": {
        "colab": {
          "base_uri": "https://localhost:8080/",
          "height": 438
        },
        "id": "IbPVNi8FFBxn",
        "outputId": "82336d50-42fc-4d82-dd28-2bdacd244101"
      },
      "execution_count": 28,
      "outputs": [
        {
          "output_type": "execute_result",
          "data": {
            "text/plain": [
              "   Color      Director Name  # Critic Reviews  Duration  # Director Likes  \\\n",
              "0  Color      James Cameron            723.00    178.00              0.00   \n",
              "1  Color     Gore Verbinski            302.00    169.00            563.00   \n",
              "2  Color         Sam Mendes            602.00    148.00              0.00   \n",
              "3  Color  Christopher Nolan            813.00    164.00          22000.00   \n",
              "4    NaN        Doug Walker               NaN       NaN            131.00   \n",
              "\n",
              "   # Actor 1 Likes      Actor 2 Name  # Actor 1 Likes        Gross  \\\n",
              "0           855.00  Joel David Moore          1000.00 760505847.00   \n",
              "1          1000.00     Orlando Bloom         40000.00 309404152.00   \n",
              "2           161.00      Rory Kinnear         11000.00 200074175.00   \n",
              "3         23000.00    Christian Bale         27000.00 448130642.00   \n",
              "4              NaN        Rob Walker           131.00          NaN   \n",
              "\n",
              "                            Genres  ... # Users for Reviews Langauge  Country  \\\n",
              "0  Action|Adventure|Fantasy|Sci-Fi  ...             3054.00  English      USA   \n",
              "1         Action|Adventure|Fantasy  ...             1238.00  English      USA   \n",
              "2        Action|Adventure|Thriller  ...              994.00  English       UK   \n",
              "3                  Action|Thriller  ...             2701.00  English      USA   \n",
              "4                      Documentary  ...                 NaN      NaN      NaN   \n",
              "\n",
              "   Content Rating       Budget  Title Year # Actor 2 Likes IMDB Score  \\\n",
              "0           PG-13 237000000.00     2009.00          936.00       7.90   \n",
              "1           PG-13 300000000.00     2007.00         5000.00       7.10   \n",
              "2           PG-13 245000000.00     2015.00          393.00       6.80   \n",
              "3           PG-13 250000000.00     2012.00        23000.00       8.50   \n",
              "4             NaN          NaN         NaN           12.00       7.10   \n",
              "\n",
              "   Aspect Ratio # Movie Likes  \n",
              "0          1.78         33000  \n",
              "1          2.35             0  \n",
              "2          2.35         85000  \n",
              "3          2.35        164000  \n",
              "4           NaN             0  \n",
              "\n",
              "[5 rows x 28 columns]"
            ],
            "text/html": [
              "\n",
              "  <div id=\"df-bc170932-d538-4f5d-b17c-2e4b1e7912d3\">\n",
              "    <div class=\"colab-df-container\">\n",
              "      <div>\n",
              "<style scoped>\n",
              "    .dataframe tbody tr th:only-of-type {\n",
              "        vertical-align: middle;\n",
              "    }\n",
              "\n",
              "    .dataframe tbody tr th {\n",
              "        vertical-align: top;\n",
              "    }\n",
              "\n",
              "    .dataframe thead th {\n",
              "        text-align: right;\n",
              "    }\n",
              "</style>\n",
              "<table border=\"1\" class=\"dataframe\">\n",
              "  <thead>\n",
              "    <tr style=\"text-align: right;\">\n",
              "      <th></th>\n",
              "      <th>Color</th>\n",
              "      <th>Director Name</th>\n",
              "      <th># Critic Reviews</th>\n",
              "      <th>Duration</th>\n",
              "      <th># Director Likes</th>\n",
              "      <th># Actor 1 Likes</th>\n",
              "      <th>Actor 2 Name</th>\n",
              "      <th># Actor 1 Likes</th>\n",
              "      <th>Gross</th>\n",
              "      <th>Genres</th>\n",
              "      <th>...</th>\n",
              "      <th># Users for Reviews</th>\n",
              "      <th>Langauge</th>\n",
              "      <th>Country</th>\n",
              "      <th>Content Rating</th>\n",
              "      <th>Budget</th>\n",
              "      <th>Title Year</th>\n",
              "      <th># Actor 2 Likes</th>\n",
              "      <th>IMDB Score</th>\n",
              "      <th>Aspect Ratio</th>\n",
              "      <th># Movie Likes</th>\n",
              "    </tr>\n",
              "  </thead>\n",
              "  <tbody>\n",
              "    <tr>\n",
              "      <th>0</th>\n",
              "      <td>Color</td>\n",
              "      <td>James Cameron</td>\n",
              "      <td>723.00</td>\n",
              "      <td>178.00</td>\n",
              "      <td>0.00</td>\n",
              "      <td>855.00</td>\n",
              "      <td>Joel David Moore</td>\n",
              "      <td>1000.00</td>\n",
              "      <td>760505847.00</td>\n",
              "      <td>Action|Adventure|Fantasy|Sci-Fi</td>\n",
              "      <td>...</td>\n",
              "      <td>3054.00</td>\n",
              "      <td>English</td>\n",
              "      <td>USA</td>\n",
              "      <td>PG-13</td>\n",
              "      <td>237000000.00</td>\n",
              "      <td>2009.00</td>\n",
              "      <td>936.00</td>\n",
              "      <td>7.90</td>\n",
              "      <td>1.78</td>\n",
              "      <td>33000</td>\n",
              "    </tr>\n",
              "    <tr>\n",
              "      <th>1</th>\n",
              "      <td>Color</td>\n",
              "      <td>Gore Verbinski</td>\n",
              "      <td>302.00</td>\n",
              "      <td>169.00</td>\n",
              "      <td>563.00</td>\n",
              "      <td>1000.00</td>\n",
              "      <td>Orlando Bloom</td>\n",
              "      <td>40000.00</td>\n",
              "      <td>309404152.00</td>\n",
              "      <td>Action|Adventure|Fantasy</td>\n",
              "      <td>...</td>\n",
              "      <td>1238.00</td>\n",
              "      <td>English</td>\n",
              "      <td>USA</td>\n",
              "      <td>PG-13</td>\n",
              "      <td>300000000.00</td>\n",
              "      <td>2007.00</td>\n",
              "      <td>5000.00</td>\n",
              "      <td>7.10</td>\n",
              "      <td>2.35</td>\n",
              "      <td>0</td>\n",
              "    </tr>\n",
              "    <tr>\n",
              "      <th>2</th>\n",
              "      <td>Color</td>\n",
              "      <td>Sam Mendes</td>\n",
              "      <td>602.00</td>\n",
              "      <td>148.00</td>\n",
              "      <td>0.00</td>\n",
              "      <td>161.00</td>\n",
              "      <td>Rory Kinnear</td>\n",
              "      <td>11000.00</td>\n",
              "      <td>200074175.00</td>\n",
              "      <td>Action|Adventure|Thriller</td>\n",
              "      <td>...</td>\n",
              "      <td>994.00</td>\n",
              "      <td>English</td>\n",
              "      <td>UK</td>\n",
              "      <td>PG-13</td>\n",
              "      <td>245000000.00</td>\n",
              "      <td>2015.00</td>\n",
              "      <td>393.00</td>\n",
              "      <td>6.80</td>\n",
              "      <td>2.35</td>\n",
              "      <td>85000</td>\n",
              "    </tr>\n",
              "    <tr>\n",
              "      <th>3</th>\n",
              "      <td>Color</td>\n",
              "      <td>Christopher Nolan</td>\n",
              "      <td>813.00</td>\n",
              "      <td>164.00</td>\n",
              "      <td>22000.00</td>\n",
              "      <td>23000.00</td>\n",
              "      <td>Christian Bale</td>\n",
              "      <td>27000.00</td>\n",
              "      <td>448130642.00</td>\n",
              "      <td>Action|Thriller</td>\n",
              "      <td>...</td>\n",
              "      <td>2701.00</td>\n",
              "      <td>English</td>\n",
              "      <td>USA</td>\n",
              "      <td>PG-13</td>\n",
              "      <td>250000000.00</td>\n",
              "      <td>2012.00</td>\n",
              "      <td>23000.00</td>\n",
              "      <td>8.50</td>\n",
              "      <td>2.35</td>\n",
              "      <td>164000</td>\n",
              "    </tr>\n",
              "    <tr>\n",
              "      <th>4</th>\n",
              "      <td>NaN</td>\n",
              "      <td>Doug Walker</td>\n",
              "      <td>NaN</td>\n",
              "      <td>NaN</td>\n",
              "      <td>131.00</td>\n",
              "      <td>NaN</td>\n",
              "      <td>Rob Walker</td>\n",
              "      <td>131.00</td>\n",
              "      <td>NaN</td>\n",
              "      <td>Documentary</td>\n",
              "      <td>...</td>\n",
              "      <td>NaN</td>\n",
              "      <td>NaN</td>\n",
              "      <td>NaN</td>\n",
              "      <td>NaN</td>\n",
              "      <td>NaN</td>\n",
              "      <td>NaN</td>\n",
              "      <td>12.00</td>\n",
              "      <td>7.10</td>\n",
              "      <td>NaN</td>\n",
              "      <td>0</td>\n",
              "    </tr>\n",
              "  </tbody>\n",
              "</table>\n",
              "<p>5 rows × 28 columns</p>\n",
              "</div>\n",
              "      <button class=\"colab-df-convert\" onclick=\"convertToInteractive('df-bc170932-d538-4f5d-b17c-2e4b1e7912d3')\"\n",
              "              title=\"Convert this dataframe to an interactive table.\"\n",
              "              style=\"display:none;\">\n",
              "        \n",
              "  <svg xmlns=\"http://www.w3.org/2000/svg\" height=\"24px\"viewBox=\"0 0 24 24\"\n",
              "       width=\"24px\">\n",
              "    <path d=\"M0 0h24v24H0V0z\" fill=\"none\"/>\n",
              "    <path d=\"M18.56 5.44l.94 2.06.94-2.06 2.06-.94-2.06-.94-.94-2.06-.94 2.06-2.06.94zm-11 1L8.5 8.5l.94-2.06 2.06-.94-2.06-.94L8.5 2.5l-.94 2.06-2.06.94zm10 10l.94 2.06.94-2.06 2.06-.94-2.06-.94-.94-2.06-.94 2.06-2.06.94z\"/><path d=\"M17.41 7.96l-1.37-1.37c-.4-.4-.92-.59-1.43-.59-.52 0-1.04.2-1.43.59L10.3 9.45l-7.72 7.72c-.78.78-.78 2.05 0 2.83L4 21.41c.39.39.9.59 1.41.59.51 0 1.02-.2 1.41-.59l7.78-7.78 2.81-2.81c.8-.78.8-2.07 0-2.86zM5.41 20L4 18.59l7.72-7.72 1.47 1.35L5.41 20z\"/>\n",
              "  </svg>\n",
              "      </button>\n",
              "      \n",
              "  <style>\n",
              "    .colab-df-container {\n",
              "      display:flex;\n",
              "      flex-wrap:wrap;\n",
              "      gap: 12px;\n",
              "    }\n",
              "\n",
              "    .colab-df-convert {\n",
              "      background-color: #E8F0FE;\n",
              "      border: none;\n",
              "      border-radius: 50%;\n",
              "      cursor: pointer;\n",
              "      display: none;\n",
              "      fill: #1967D2;\n",
              "      height: 32px;\n",
              "      padding: 0 0 0 0;\n",
              "      width: 32px;\n",
              "    }\n",
              "\n",
              "    .colab-df-convert:hover {\n",
              "      background-color: #E2EBFA;\n",
              "      box-shadow: 0px 1px 2px rgba(60, 64, 67, 0.3), 0px 1px 3px 1px rgba(60, 64, 67, 0.15);\n",
              "      fill: #174EA6;\n",
              "    }\n",
              "\n",
              "    [theme=dark] .colab-df-convert {\n",
              "      background-color: #3B4455;\n",
              "      fill: #D2E3FC;\n",
              "    }\n",
              "\n",
              "    [theme=dark] .colab-df-convert:hover {\n",
              "      background-color: #434B5C;\n",
              "      box-shadow: 0px 1px 3px 1px rgba(0, 0, 0, 0.15);\n",
              "      filter: drop-shadow(0px 1px 2px rgba(0, 0, 0, 0.3));\n",
              "      fill: #FFFFFF;\n",
              "    }\n",
              "  </style>\n",
              "\n",
              "      <script>\n",
              "        const buttonEl =\n",
              "          document.querySelector('#df-bc170932-d538-4f5d-b17c-2e4b1e7912d3 button.colab-df-convert');\n",
              "        buttonEl.style.display =\n",
              "          google.colab.kernel.accessAllowed ? 'block' : 'none';\n",
              "\n",
              "        async function convertToInteractive(key) {\n",
              "          const element = document.querySelector('#df-bc170932-d538-4f5d-b17c-2e4b1e7912d3');\n",
              "          const dataTable =\n",
              "            await google.colab.kernel.invokeFunction('convertToInteractive',\n",
              "                                                     [key], {});\n",
              "          if (!dataTable) return;\n",
              "\n",
              "          const docLinkHtml = 'Like what you see? Visit the ' +\n",
              "            '<a target=\"_blank\" href=https://colab.research.google.com/notebooks/data_table.ipynb>data table notebook</a>'\n",
              "            + ' to learn more about interactive tables.';\n",
              "          element.innerHTML = '';\n",
              "          dataTable['output_type'] = 'display_data';\n",
              "          await google.colab.output.renderOutput(dataTable, element);\n",
              "          const docLink = document.createElement('div');\n",
              "          docLink.innerHTML = docLinkHtml;\n",
              "          element.appendChild(docLink);\n",
              "        }\n",
              "      </script>\n",
              "    </div>\n",
              "  </div>\n",
              "  "
            ]
          },
          "metadata": {},
          "execution_count": 28
        }
      ]
    },
    {
      "cell_type": "code",
      "source": [
        "# Remove missing data and provide verification via the table below prior to moving forward with further preparation steps:\n",
        "\n",
        "movies = movies.dropna()\n",
        "pd.set_option('float_format', '{:.2f}'.format)\n",
        "show_Missing = movies.isna().sum()\n",
        "show_Missing"
      ],
      "metadata": {
        "colab": {
          "base_uri": "https://localhost:8080/"
        },
        "id": "H3qknhIYdDlj",
        "outputId": "ab0d719d-8292-4d65-c30a-1b759dbe63d0"
      },
      "execution_count": 29,
      "outputs": [
        {
          "output_type": "execute_result",
          "data": {
            "text/plain": [
              "Color                  0\n",
              "Director Name          0\n",
              "# Critic Reviews       0\n",
              "Duration               0\n",
              "# Director Likes       0\n",
              "# Actor 1 Likes        0\n",
              "Actor 2 Name           0\n",
              "# Actor 1 Likes        0\n",
              "Gross                  0\n",
              "Genres                 0\n",
              "Actor 1 Name           0\n",
              "Movie Title            0\n",
              "# Users Voted          0\n",
              "# Cast Likes           0\n",
              "Actor 3 Name           0\n",
              "# FB Poster            0\n",
              "Plot Keywords          0\n",
              "Movie Link             0\n",
              "# Users for Reviews    0\n",
              "Langauge               0\n",
              "Country                0\n",
              "Content Rating         0\n",
              "Budget                 0\n",
              "Title Year             0\n",
              "# Actor 2 Likes        0\n",
              "IMDB Score             0\n",
              "Aspect Ratio           0\n",
              "# Movie Likes          0\n",
              "dtype: int64"
            ]
          },
          "metadata": {},
          "execution_count": 29
        }
      ]
    },
    {
      "cell_type": "code",
      "source": [
        "from pandas.core.groupby.grouper import DataFrame\n",
        "\n",
        "# Initialize gross revenue classes for our multi- class classification problem. \n",
        "\n",
        "'''Revenue Classes:\n",
        "      $0 - 24.99M\n",
        "      $25 - 99.99M\n",
        "      $100 - 249.99M\n",
        "      $250 - 499.99M\n",
        "      $500M - 1000000000'''\n",
        "\n",
        "#Assign each movie to a REVENUE CLASS:\n",
        "movies['Classes'] = pd.cut(movies.Gross, bins = [0, 24999999, 99999999,249999999, 499999999, 1000000000], \n",
        "       labels = ['Class 1','Class 2', 'Class 3', 'Class 4', 'Class 5'])"
      ],
      "metadata": {
        "id": "bQ2xqSUdX59B"
      },
      "execution_count": 30,
      "outputs": []
    },
    {
      "cell_type": "code",
      "source": [
        "# Remove unwanted features:\n",
        "movies = movies.drop(['Movie Title', 'Movie Link', 'Plot Keywords'], axis = 1) \n",
        "\n",
        "# Set aside the Classes label for future train-test splitting:\n",
        "y = movies.pop('Classes')"
      ],
      "metadata": {
        "id": "MZOAEXXgipUJ"
      },
      "execution_count": 31,
      "outputs": []
    },
    {
      "cell_type": "code",
      "source": [
        "# Utilize sci-kit learn machine learning packages:\n",
        "\n",
        "from sklearn import preprocessing\n",
        "\n",
        "# Encode each text- based variable with a corresponding numerical value:\n",
        "label_encoder = preprocessing.LabelEncoder()\n",
        "one_hot_encoder = preprocessing.OneHotEncoder()\n",
        "\n",
        "movies['Director Name'] = label_encoder.fit_transform(movies['Director Name'])\n",
        "movies['Color'] = label_encoder.fit_transform(movies['Color'])\n",
        "movies['Actor 2 Name'] = label_encoder.fit_transform(movies['Actor 2 Name'])\n",
        "movies['Genres'] = label_encoder.fit_transform(movies['Genres'])\n",
        "movies['Langauge'] = label_encoder.fit_transform(movies['Langauge'])\n",
        "movies['Country'] = label_encoder.fit_transform(movies['Country'])\n",
        "movies['Content Rating'] = label_encoder.fit_transform(movies['Content Rating'])\n",
        "movies['Title Year'] = label_encoder.fit_transform(movies['Title Year'])\n",
        "movies['Actor 1 Name'] = label_encoder.fit_transform(movies['Actor 1 Name'])\n",
        "movies['Actor 3 Name'] = label_encoder.fit_transform(movies['Actor 3 Name'])\n",
        "\n",
        "movies.head()"
      ],
      "metadata": {
        "id": "zu2zkgVH1r2L",
        "colab": {
          "base_uri": "https://localhost:8080/",
          "height": 334
        },
        "outputId": "032a4f6a-8379-4c1f-a600-6b2a3f3d4eec"
      },
      "execution_count": 32,
      "outputs": [
        {
          "output_type": "execute_result",
          "data": {
            "text/plain": [
              "   Color  Director Name  # Critic Reviews  Duration  # Director Likes  \\\n",
              "0      1            620            723.00    178.00              0.00   \n",
              "1      1            538            302.00    169.00            563.00   \n",
              "2      1           1395            602.00    148.00              0.00   \n",
              "3      1            251            813.00    164.00          22000.00   \n",
              "5      1             62            462.00    132.00            475.00   \n",
              "\n",
              "   # Actor 1 Likes  Actor 2 Name  # Actor 1 Likes        Gross  Genres  ...  \\\n",
              "0           855.00          1002          1000.00 760505847.00      91  ...   \n",
              "1          1000.00          1592         40000.00 309404152.00      85  ...   \n",
              "2           161.00          1795         11000.00 200074175.00     107  ...   \n",
              "3         23000.00           381         27000.00 448130642.00     243  ...   \n",
              "5           530.00          1837           640.00  73058679.00     105  ...   \n",
              "\n",
              "   # Users for Reviews  Langauge  Country  Content Rating       Budget  \\\n",
              "0              3054.00         9       43               7 237000000.00   \n",
              "1              1238.00         9       43               7 300000000.00   \n",
              "2               994.00         9       42               7 245000000.00   \n",
              "3              2701.00         9       43               7 250000000.00   \n",
              "5               738.00         9       43               7 263700000.00   \n",
              "\n",
              "   Title Year  # Actor 2 Likes  IMDB Score  Aspect Ratio  # Movie Likes  \n",
              "0          66           936.00        7.90          1.78          33000  \n",
              "1          64          5000.00        7.10          2.35              0  \n",
              "2          72           393.00        6.80          2.35          85000  \n",
              "3          69         23000.00        8.50          2.35         164000  \n",
              "5          69           632.00        6.60          2.35          24000  \n",
              "\n",
              "[5 rows x 25 columns]"
            ],
            "text/html": [
              "\n",
              "  <div id=\"df-5f9142d5-e3f0-4cac-b44e-ab1a37858f62\">\n",
              "    <div class=\"colab-df-container\">\n",
              "      <div>\n",
              "<style scoped>\n",
              "    .dataframe tbody tr th:only-of-type {\n",
              "        vertical-align: middle;\n",
              "    }\n",
              "\n",
              "    .dataframe tbody tr th {\n",
              "        vertical-align: top;\n",
              "    }\n",
              "\n",
              "    .dataframe thead th {\n",
              "        text-align: right;\n",
              "    }\n",
              "</style>\n",
              "<table border=\"1\" class=\"dataframe\">\n",
              "  <thead>\n",
              "    <tr style=\"text-align: right;\">\n",
              "      <th></th>\n",
              "      <th>Color</th>\n",
              "      <th>Director Name</th>\n",
              "      <th># Critic Reviews</th>\n",
              "      <th>Duration</th>\n",
              "      <th># Director Likes</th>\n",
              "      <th># Actor 1 Likes</th>\n",
              "      <th>Actor 2 Name</th>\n",
              "      <th># Actor 1 Likes</th>\n",
              "      <th>Gross</th>\n",
              "      <th>Genres</th>\n",
              "      <th>...</th>\n",
              "      <th># Users for Reviews</th>\n",
              "      <th>Langauge</th>\n",
              "      <th>Country</th>\n",
              "      <th>Content Rating</th>\n",
              "      <th>Budget</th>\n",
              "      <th>Title Year</th>\n",
              "      <th># Actor 2 Likes</th>\n",
              "      <th>IMDB Score</th>\n",
              "      <th>Aspect Ratio</th>\n",
              "      <th># Movie Likes</th>\n",
              "    </tr>\n",
              "  </thead>\n",
              "  <tbody>\n",
              "    <tr>\n",
              "      <th>0</th>\n",
              "      <td>1</td>\n",
              "      <td>620</td>\n",
              "      <td>723.00</td>\n",
              "      <td>178.00</td>\n",
              "      <td>0.00</td>\n",
              "      <td>855.00</td>\n",
              "      <td>1002</td>\n",
              "      <td>1000.00</td>\n",
              "      <td>760505847.00</td>\n",
              "      <td>91</td>\n",
              "      <td>...</td>\n",
              "      <td>3054.00</td>\n",
              "      <td>9</td>\n",
              "      <td>43</td>\n",
              "      <td>7</td>\n",
              "      <td>237000000.00</td>\n",
              "      <td>66</td>\n",
              "      <td>936.00</td>\n",
              "      <td>7.90</td>\n",
              "      <td>1.78</td>\n",
              "      <td>33000</td>\n",
              "    </tr>\n",
              "    <tr>\n",
              "      <th>1</th>\n",
              "      <td>1</td>\n",
              "      <td>538</td>\n",
              "      <td>302.00</td>\n",
              "      <td>169.00</td>\n",
              "      <td>563.00</td>\n",
              "      <td>1000.00</td>\n",
              "      <td>1592</td>\n",
              "      <td>40000.00</td>\n",
              "      <td>309404152.00</td>\n",
              "      <td>85</td>\n",
              "      <td>...</td>\n",
              "      <td>1238.00</td>\n",
              "      <td>9</td>\n",
              "      <td>43</td>\n",
              "      <td>7</td>\n",
              "      <td>300000000.00</td>\n",
              "      <td>64</td>\n",
              "      <td>5000.00</td>\n",
              "      <td>7.10</td>\n",
              "      <td>2.35</td>\n",
              "      <td>0</td>\n",
              "    </tr>\n",
              "    <tr>\n",
              "      <th>2</th>\n",
              "      <td>1</td>\n",
              "      <td>1395</td>\n",
              "      <td>602.00</td>\n",
              "      <td>148.00</td>\n",
              "      <td>0.00</td>\n",
              "      <td>161.00</td>\n",
              "      <td>1795</td>\n",
              "      <td>11000.00</td>\n",
              "      <td>200074175.00</td>\n",
              "      <td>107</td>\n",
              "      <td>...</td>\n",
              "      <td>994.00</td>\n",
              "      <td>9</td>\n",
              "      <td>42</td>\n",
              "      <td>7</td>\n",
              "      <td>245000000.00</td>\n",
              "      <td>72</td>\n",
              "      <td>393.00</td>\n",
              "      <td>6.80</td>\n",
              "      <td>2.35</td>\n",
              "      <td>85000</td>\n",
              "    </tr>\n",
              "    <tr>\n",
              "      <th>3</th>\n",
              "      <td>1</td>\n",
              "      <td>251</td>\n",
              "      <td>813.00</td>\n",
              "      <td>164.00</td>\n",
              "      <td>22000.00</td>\n",
              "      <td>23000.00</td>\n",
              "      <td>381</td>\n",
              "      <td>27000.00</td>\n",
              "      <td>448130642.00</td>\n",
              "      <td>243</td>\n",
              "      <td>...</td>\n",
              "      <td>2701.00</td>\n",
              "      <td>9</td>\n",
              "      <td>43</td>\n",
              "      <td>7</td>\n",
              "      <td>250000000.00</td>\n",
              "      <td>69</td>\n",
              "      <td>23000.00</td>\n",
              "      <td>8.50</td>\n",
              "      <td>2.35</td>\n",
              "      <td>164000</td>\n",
              "    </tr>\n",
              "    <tr>\n",
              "      <th>5</th>\n",
              "      <td>1</td>\n",
              "      <td>62</td>\n",
              "      <td>462.00</td>\n",
              "      <td>132.00</td>\n",
              "      <td>475.00</td>\n",
              "      <td>530.00</td>\n",
              "      <td>1837</td>\n",
              "      <td>640.00</td>\n",
              "      <td>73058679.00</td>\n",
              "      <td>105</td>\n",
              "      <td>...</td>\n",
              "      <td>738.00</td>\n",
              "      <td>9</td>\n",
              "      <td>43</td>\n",
              "      <td>7</td>\n",
              "      <td>263700000.00</td>\n",
              "      <td>69</td>\n",
              "      <td>632.00</td>\n",
              "      <td>6.60</td>\n",
              "      <td>2.35</td>\n",
              "      <td>24000</td>\n",
              "    </tr>\n",
              "  </tbody>\n",
              "</table>\n",
              "<p>5 rows × 25 columns</p>\n",
              "</div>\n",
              "      <button class=\"colab-df-convert\" onclick=\"convertToInteractive('df-5f9142d5-e3f0-4cac-b44e-ab1a37858f62')\"\n",
              "              title=\"Convert this dataframe to an interactive table.\"\n",
              "              style=\"display:none;\">\n",
              "        \n",
              "  <svg xmlns=\"http://www.w3.org/2000/svg\" height=\"24px\"viewBox=\"0 0 24 24\"\n",
              "       width=\"24px\">\n",
              "    <path d=\"M0 0h24v24H0V0z\" fill=\"none\"/>\n",
              "    <path d=\"M18.56 5.44l.94 2.06.94-2.06 2.06-.94-2.06-.94-.94-2.06-.94 2.06-2.06.94zm-11 1L8.5 8.5l.94-2.06 2.06-.94-2.06-.94L8.5 2.5l-.94 2.06-2.06.94zm10 10l.94 2.06.94-2.06 2.06-.94-2.06-.94-.94-2.06-.94 2.06-2.06.94z\"/><path d=\"M17.41 7.96l-1.37-1.37c-.4-.4-.92-.59-1.43-.59-.52 0-1.04.2-1.43.59L10.3 9.45l-7.72 7.72c-.78.78-.78 2.05 0 2.83L4 21.41c.39.39.9.59 1.41.59.51 0 1.02-.2 1.41-.59l7.78-7.78 2.81-2.81c.8-.78.8-2.07 0-2.86zM5.41 20L4 18.59l7.72-7.72 1.47 1.35L5.41 20z\"/>\n",
              "  </svg>\n",
              "      </button>\n",
              "      \n",
              "  <style>\n",
              "    .colab-df-container {\n",
              "      display:flex;\n",
              "      flex-wrap:wrap;\n",
              "      gap: 12px;\n",
              "    }\n",
              "\n",
              "    .colab-df-convert {\n",
              "      background-color: #E8F0FE;\n",
              "      border: none;\n",
              "      border-radius: 50%;\n",
              "      cursor: pointer;\n",
              "      display: none;\n",
              "      fill: #1967D2;\n",
              "      height: 32px;\n",
              "      padding: 0 0 0 0;\n",
              "      width: 32px;\n",
              "    }\n",
              "\n",
              "    .colab-df-convert:hover {\n",
              "      background-color: #E2EBFA;\n",
              "      box-shadow: 0px 1px 2px rgba(60, 64, 67, 0.3), 0px 1px 3px 1px rgba(60, 64, 67, 0.15);\n",
              "      fill: #174EA6;\n",
              "    }\n",
              "\n",
              "    [theme=dark] .colab-df-convert {\n",
              "      background-color: #3B4455;\n",
              "      fill: #D2E3FC;\n",
              "    }\n",
              "\n",
              "    [theme=dark] .colab-df-convert:hover {\n",
              "      background-color: #434B5C;\n",
              "      box-shadow: 0px 1px 3px 1px rgba(0, 0, 0, 0.15);\n",
              "      filter: drop-shadow(0px 1px 2px rgba(0, 0, 0, 0.3));\n",
              "      fill: #FFFFFF;\n",
              "    }\n",
              "  </style>\n",
              "\n",
              "      <script>\n",
              "        const buttonEl =\n",
              "          document.querySelector('#df-5f9142d5-e3f0-4cac-b44e-ab1a37858f62 button.colab-df-convert');\n",
              "        buttonEl.style.display =\n",
              "          google.colab.kernel.accessAllowed ? 'block' : 'none';\n",
              "\n",
              "        async function convertToInteractive(key) {\n",
              "          const element = document.querySelector('#df-5f9142d5-e3f0-4cac-b44e-ab1a37858f62');\n",
              "          const dataTable =\n",
              "            await google.colab.kernel.invokeFunction('convertToInteractive',\n",
              "                                                     [key], {});\n",
              "          if (!dataTable) return;\n",
              "\n",
              "          const docLinkHtml = 'Like what you see? Visit the ' +\n",
              "            '<a target=\"_blank\" href=https://colab.research.google.com/notebooks/data_table.ipynb>data table notebook</a>'\n",
              "            + ' to learn more about interactive tables.';\n",
              "          element.innerHTML = '';\n",
              "          dataTable['output_type'] = 'display_data';\n",
              "          await google.colab.output.renderOutput(dataTable, element);\n",
              "          const docLink = document.createElement('div');\n",
              "          docLink.innerHTML = docLinkHtml;\n",
              "          element.appendChild(docLink);\n",
              "        }\n",
              "      </script>\n",
              "    </div>\n",
              "  </div>\n",
              "  "
            ]
          },
          "metadata": {},
          "execution_count": 32
        }
      ]
    },
    {
      "cell_type": "code",
      "source": [
        "# Utilize min-max scaling method to provide a relative numerical scale to the data:\n",
        "\n",
        "from sklearn.preprocessing import MinMaxScaler\n",
        "\n",
        "scaler = MinMaxScaler()\n",
        "scaler.fit(movies)\n",
        "scaled_Movies = scaler.fit_transform(movies)\n",
        "scaled_Movies = pd.DataFrame(scaled_Movies, columns = movies.columns)\n",
        "print(scaled_Movies.head())"
      ],
      "metadata": {
        "colab": {
          "base_uri": "https://localhost:8080/"
        },
        "id": "pjz3AgVArSkA",
        "outputId": "eac0cb8e-8ed1-4787-ac65-483c7b3bbe23"
      },
      "execution_count": 33,
      "outputs": [
        {
          "output_type": "stream",
          "name": "stdout",
          "text": [
            "   Color  Director Name  # Critic Reviews  Duration  # Director Likes  \\\n",
            "0   1.00           0.37              0.89      0.48              0.00   \n",
            "1   1.00           0.32              0.37      0.45              0.02   \n",
            "2   1.00           0.84              0.74      0.38              0.00   \n",
            "3   1.00           0.15              1.00      0.43              0.96   \n",
            "4   1.00           0.04              0.57      0.32              0.02   \n",
            "\n",
            "   # Actor 1 Likes  Actor 2 Name  # Actor 1 Likes  Gross  Genres  ...  \\\n",
            "0             0.04          0.46             0.00   1.00    0.12  ...   \n",
            "1             0.04          0.73             0.06   0.41    0.11  ...   \n",
            "2             0.01          0.82             0.02   0.26    0.14  ...   \n",
            "3             1.00          0.17             0.04   0.59    0.33  ...   \n",
            "4             0.02          0.84             0.00   0.10    0.14  ...   \n",
            "\n",
            "   # Users for Reviews  Langauge  Country  Content Rating  Budget  Title Year  \\\n",
            "0                 0.60      0.27     0.98            0.64    0.02        0.90   \n",
            "1                 0.24      0.27     0.98            0.64    0.02        0.88   \n",
            "2                 0.20      0.27     0.95            0.64    0.02        0.99   \n",
            "3                 0.53      0.27     0.98            0.64    0.02        0.95   \n",
            "4                 0.15      0.27     0.98            0.64    0.02        0.95   \n",
            "\n",
            "   # Actor 2 Likes  IMDB Score  Aspect Ratio  # Movie Likes  \n",
            "0             0.01        0.82          0.04           0.09  \n",
            "1             0.04        0.71          0.08           0.00  \n",
            "2             0.00        0.68          0.08           0.24  \n",
            "3             0.17        0.90          0.08           0.47  \n",
            "4             0.00        0.65          0.08           0.07  \n",
            "\n",
            "[5 rows x 25 columns]\n"
          ]
        }
      ]
    },
    {
      "cell_type": "code",
      "source": [
        "from sklearn import datasets\n",
        "from sklearn.metrics import confusion_matrix\n",
        "from sklearn.model_selection import train_test_split\n",
        "from sklearn.linear_model import LogisticRegression\n",
        "\n",
        "#Separate into training and validation sets, remember that the y variable representing the class label has already been initialized in a previous step:\n",
        "X = scaled_Movies"
      ],
      "metadata": {
        "id": "a8ilclsxqkdb"
      },
      "execution_count": 34,
      "outputs": []
    },
    {
      "cell_type": "code",
      "source": [
        "# Partitioning the data into training, test and validation sets:\n",
        "X_train, X_test, y_train, y_test = train_test_split(X, y, random_state = 10, train_size = 0.8, shuffle = True)"
      ],
      "metadata": {
        "id": "4CUP-0nWyEI1"
      },
      "execution_count": 35,
      "outputs": []
    },
    {
      "cell_type": "code",
      "source": [
        "# Utilize Gaussian Naive Bayes:\n",
        "\n",
        "from sklearn.naive_bayes import GaussianNB\n",
        "\n",
        "gnb_Model = GaussianNB()\n",
        "\n",
        "# Train the model on the data:\n",
        "gnb_Model.fit(X_train, y_train)\n",
        "\n",
        "# Generate predictions:\n",
        "gnb_Predictions = gnb_Model.predict(X_test)\n",
        "\n",
        "# Display the first 20 predictions:\n",
        "gnb_Predictions[0:20]"
      ],
      "metadata": {
        "id": "b4MFq5zCDeGb",
        "colab": {
          "base_uri": "https://localhost:8080/"
        },
        "outputId": "71203c43-7065-4d3a-80c5-82d140ae9b0e"
      },
      "execution_count": 36,
      "outputs": [
        {
          "output_type": "execute_result",
          "data": {
            "text/plain": [
              "array(['Class 1', 'Class 4', 'Class 2', 'Class 1', 'Class 2', 'Class 1',\n",
              "       'Class 4', 'Class 4', 'Class 1', 'Class 4', 'Class 1', 'Class 1',\n",
              "       'Class 4', 'Class 1', 'Class 2', 'Class 1', 'Class 2', 'Class 1',\n",
              "       'Class 1', 'Class 4'], dtype='<U7')"
            ]
          },
          "metadata": {},
          "execution_count": 36
        }
      ]
    },
    {
      "cell_type": "code",
      "source": [
        "# Utilize Support Vector Machine:\n",
        "\n",
        "from sklearn import svm\n",
        "\n",
        "svm_Model = svm.SVC(kernel = 'linear') \n",
        "\n",
        "# Train the model on the data:\n",
        "svm_Model.fit(X_train, y_train)\n",
        "\n",
        "# Generate predictions:\n",
        "svm_Predictions = svm_Model.predict(X_test)\n",
        "\n",
        "# Display the first 20 predictions:\n",
        "svm_Predictions[0:20]"
      ],
      "metadata": {
        "id": "wnpLwe-8_eqp",
        "colab": {
          "base_uri": "https://localhost:8080/"
        },
        "outputId": "57f6c7e9-b5a4-4839-d9a0-1110ea53f1bb"
      },
      "execution_count": 37,
      "outputs": [
        {
          "output_type": "execute_result",
          "data": {
            "text/plain": [
              "array(['Class 1', 'Class 3', 'Class 2', 'Class 1', 'Class 1', 'Class 1',\n",
              "       'Class 3', 'Class 2', 'Class 1', 'Class 2', 'Class 1', 'Class 1',\n",
              "       'Class 3', 'Class 1', 'Class 2', 'Class 1', 'Class 2', 'Class 1',\n",
              "       'Class 1', 'Class 3'], dtype=object)"
            ]
          },
          "metadata": {},
          "execution_count": 37
        }
      ]
    },
    {
      "cell_type": "code",
      "source": [
        "# Utilize Decision Tree:\n",
        "\n",
        "from sklearn import tree\n",
        "\n",
        "tree_Model = tree.DecisionTreeClassifier()\n",
        "\n",
        "# Train the model on the data:\n",
        "tree_Model = tree_Model.fit(X_train, y_train)\n",
        "\n",
        "# Generate predictions:\n",
        "tree_Predictions = tree_Model.predict(X_test)\n",
        "\n",
        "# Display the first 20 predictions:\n",
        "tree_Predictions[0:20]"
      ],
      "metadata": {
        "id": "fQZiQnvC6ES8",
        "colab": {
          "base_uri": "https://localhost:8080/"
        },
        "outputId": "a2ac70dd-665f-4f26-b255-bd3e8b44f83f"
      },
      "execution_count": 38,
      "outputs": [
        {
          "output_type": "execute_result",
          "data": {
            "text/plain": [
              "array(['Class 1', 'Class 3', 'Class 2', 'Class 1', 'Class 2', 'Class 1',\n",
              "       'Class 3', 'Class 2', 'Class 1', 'Class 2', 'Class 1', 'Class 1',\n",
              "       'Class 3', 'Class 1', 'Class 2', 'Class 1', 'Class 2', 'Class 1',\n",
              "       'Class 1', 'Class 3'], dtype=object)"
            ]
          },
          "metadata": {},
          "execution_count": 38
        }
      ]
    },
    {
      "cell_type": "markdown",
      "source": [],
      "metadata": {
        "id": "6DsArO1O-Ti9"
      }
    },
    {
      "cell_type": "code",
      "source": [
        "# Utilize machine learning evaluation tools to assess the performance of the model:\n",
        "\n",
        "from sklearn import metrics\n",
        "\n",
        "# Calculate and display the accuracy scores for each model:\n",
        "print(\"Accuracy: GAUSSIAN NAIVE BAYES:\", metrics.accuracy_score(y_test, gnb_Predictions))\n",
        "print(\"Accuracy: SVM:\", metrics.accuracy_score(y_test, svm_Predictions))\n",
        "print(\"Accuracy: DECISION TREE:\", metrics.accuracy_score(y_test, tree_Predictions))"
      ],
      "metadata": {
        "colab": {
          "base_uri": "https://localhost:8080/"
        },
        "id": "VxAqajGLB8es",
        "outputId": "820b834e-fe84-484f-cd8b-6b66d279eeec"
      },
      "execution_count": 39,
      "outputs": [
        {
          "output_type": "stream",
          "name": "stdout",
          "text": [
            "Accuracy: GAUSSIAN NAIVE BAYES: 0.625\n",
            "Accuracy: SVM: 0.8723404255319149\n",
            "Accuracy: DECISION TREE: 0.9986702127659575\n"
          ]
        }
      ]
    },
    {
      "cell_type": "code",
      "source": [
        "# Utilize cross- validation techniques to evaluate the performance of the model:\n",
        "\n",
        "from sklearn.utils import shuffle\n",
        "import matplotlib.pyplot as plt\n",
        "from sklearn.metrics import confusion_matrix\n",
        "from sklearn.metrics import ConfusionMatrixDisplay\n",
        "from sklearn.model_selection import KFold, cross_val_score, cross_val_predict\n",
        "\n",
        "# Perform 10- fold cross validation testing on the Gaussian Naive Bayes model:\n",
        "k_folds = KFold(n_splits=10)\n",
        "gnb_cross_Scores = cross_val_score(gnb_Model, X_test, y_test, cv = k_folds)\n",
        "\n",
        "# Display accuracy scores for each of the 10 tests:\n",
        "gnb_cross_Scores"
      ],
      "metadata": {
        "colab": {
          "base_uri": "https://localhost:8080/"
        },
        "id": "8aIT4USKYiF-",
        "outputId": "61c49045-a818-4e9f-84c8-eb6658eb5ee2"
      },
      "execution_count": 40,
      "outputs": [
        {
          "output_type": "execute_result",
          "data": {
            "text/plain": [
              "array([0.30263158, 0.31578947, 0.28      , 0.25333333, 0.24      ,\n",
              "       0.33333333, 0.28      , 0.29333333, 0.28      , 0.32      ])"
            ]
          },
          "metadata": {},
          "execution_count": 40
        }
      ]
    },
    {
      "cell_type": "code",
      "source": [
        "# Display Confusion Matrix to visualize the performance of the Gaussian Naive Bayes predictions:\n",
        "\n",
        "cm_gnb = confusion_matrix(y_test, gnb_Predictions, labels = gnb_Model.classes_)\n",
        "disp_gnb =  ConfusionMatrixDisplay(confusion_matrix = cm_gnb, display_labels = gnb_Model.classes_)\n",
        "disp_gnb.plot()\n",
        "plt.show()"
      ],
      "metadata": {
        "colab": {
          "base_uri": "https://localhost:8080/",
          "height": 279
        },
        "id": "hi18E1ZCAfKf",
        "outputId": "a2a93fc0-7038-4407-9df4-c3b30bdf8660"
      },
      "execution_count": 41,
      "outputs": [
        {
          "output_type": "display_data",
          "data": {
            "text/plain": [
              "<Figure size 432x288 with 2 Axes>"
            ],
            "image/png": "[encoded data removed]"
          },
          "metadata": {
            "needs_background": "light"
          }
        }
      ]
    },
    {
      "cell_type": "code",
      "source": [
        "# Perform 10- fold cross validation testing on the Gaussian Naive Bayes model:\n",
        "k_folds = KFold(n_splits = 10)\n",
        "svm_cross_Scores = cross_val_score(svm_Model, X_test, y_test, cv = k_folds)\n",
        "\n",
        "# Display accuracy scores for each of the 10 tests:\n",
        "svm_cross_Scores"
      ],
      "metadata": {
        "colab": {
          "base_uri": "https://localhost:8080/"
        },
        "id": "5QoUVkOlaJcE",
        "outputId": "ebef2b6a-96ed-46c7-ce82-160f8c69917a"
      },
      "execution_count": 42,
      "outputs": [
        {
          "output_type": "execute_result",
          "data": {
            "text/plain": [
              "array([0.78947368, 0.82894737, 0.72      , 0.69333333, 0.70666667,\n",
              "       0.62666667, 0.61333333, 0.82666667, 0.70666667, 0.69333333])"
            ]
          },
          "metadata": {},
          "execution_count": 42
        }
      ]
    },
    {
      "cell_type": "code",
      "source": [
        "# Display Confusion Matrix to visualize the performance of the Suppoer Vector Machine predictions:\n",
        "\n",
        "cm_svm = confusion_matrix(y_test, svm_Predictions, labels = svm_Model.classes_)\n",
        "disp_svm =  ConfusionMatrixDisplay(confusion_matrix = cm_svm, display_labels = svm_Model.classes_)\n",
        "disp_svm.plot()\n",
        "plt.show()"
      ],
      "metadata": {
        "colab": {
          "base_uri": "https://localhost:8080/",
          "height": 279
        },
        "id": "0xAcnSLn_zHB",
        "outputId": "09109edb-5e99-418c-cbe4-87339262efaf"
      },
      "execution_count": 43,
      "outputs": [
        {
          "output_type": "display_data",
          "data": {
            "text/plain": [
              "<Figure size 432x288 with 2 Axes>"
            ],
            "image/png": "[encoded data removed]"
          },
          "metadata": {
            "needs_background": "light"
          }
        }
      ]
    },
    {
      "cell_type": "code",
      "source": [
        "# Perform 10- fold cross validation testing on the Decision Tree model:\n",
        "k_folds = KFold(n_splits = 10)\n",
        "tree_cross_Scores = cross_val_score(tree_Model, X_test, y_test, cv = k_folds)\n",
        "\n",
        "# Display accuracy scores for each of the 10 tests:\n",
        "tree_cross_Scores"
      ],
      "metadata": {
        "colab": {
          "base_uri": "https://localhost:8080/"
        },
        "id": "Mta6ABr8aQeJ",
        "outputId": "95aa0912-3c07-4f29-9ffa-f93691bf2fa7"
      },
      "execution_count": 44,
      "outputs": [
        {
          "output_type": "execute_result",
          "data": {
            "text/plain": [
              "array([1.        , 0.98684211, 1.        , 1.        , 1.        ,\n",
              "       1.        , 1.        , 1.        , 1.        , 1.        ])"
            ]
          },
          "metadata": {},
          "execution_count": 44
        }
      ]
    },
    {
      "cell_type": "code",
      "source": [
        "# Display Confusion Matrix to visualize the performance of the Decision Tree predictions:\n",
        "cm_Tree = confusion_matrix(y_test, tree_Predictions, labels = tree_Model.classes_)\n",
        "disp_Tree =  ConfusionMatrixDisplay(confusion_matrix = cm_Tree, display_labels = tree_Model.classes_)\n",
        "disp_Tree.plot()\n",
        "plt.show()"
      ],
      "metadata": {
        "colab": {
          "base_uri": "https://localhost:8080/",
          "height": 279
        },
        "id": "wD0Ji6nH-NrJ",
        "outputId": "300abe79-17fd-470a-a44d-1be966f6456d"
      },
      "execution_count": 45,
      "outputs": [
        {
          "output_type": "display_data",
          "data": {
            "text/plain": [
              "<Figure size 432x288 with 2 Axes>"
            ],
            "image/png": "[encoded data removed]"
          },
          "metadata": {
            "needs_background": "light"
          }
        }
      ]
    }
  ]
}